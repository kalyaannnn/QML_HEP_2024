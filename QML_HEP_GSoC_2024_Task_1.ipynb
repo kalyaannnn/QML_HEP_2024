{
 "cells": [
  {
   "cell_type": "markdown",
   "id": "a6b7156f",
   "metadata": {},
   "source": [
    "Task 1 "
   ]
  },
  {
   "cell_type": "code",
   "execution_count": 2,
   "id": "c55a11b0",
   "metadata": {},
   "outputs": [],
   "source": [
    "import cirq\n",
    "import numpy as np\n",
    "import matplotlib.pyplot as plt"
   ]
  },
  {
   "cell_type": "code",
   "execution_count": 3,
   "id": "23adb6b2",
   "metadata": {},
   "outputs": [],
   "source": [
    "n_qubits = 5\n",
    "qubits = [cirq.GridQubit(0, i) for i in range(n_qubits)]\n",
    "circuit = cirq.Circuit()"
   ]
  },
  {
   "cell_type": "code",
   "execution_count": 4,
   "id": "f03f7ebb",
   "metadata": {},
   "outputs": [],
   "source": [
    "for qubit in qubits:\n",
    "    circuit.append(cirq.H(qubit))"
   ]
  },
  {
   "cell_type": "code",
   "execution_count": 5,
   "id": "7b159639",
   "metadata": {},
   "outputs": [],
   "source": [
    "circuit.append(cirq.CNOT(qubits[0], qubits[1]))\n",
    "circuit.append(cirq.CNOT(qubits[1], qubits[2]))\n",
    "circuit.append(cirq.CNOT(qubits[2], qubits[3]))\n",
    "circuit.append(cirq.CNOT(qubits[3], qubits[4]))"
   ]
  },
  {
   "cell_type": "code",
   "execution_count": 6,
   "id": "2d2f9a30",
   "metadata": {},
   "outputs": [],
   "source": [
    "circuit.append(cirq.SWAP(qubits[0], qubits[4]))\n",
    "circuit.append(cirq.rx(np.pi/2).on(qubits[0]))"
   ]
  },
  {
   "cell_type": "code",
   "execution_count": 8,
   "id": "8711fbcc",
   "metadata": {},
   "outputs": [
    {
     "name": "stdout",
     "output_type": "stream",
     "text": [
      "Circuit\n",
      "(0, 0): ───H───@───────────────×───Rx(0.5π)───\n",
      "               │               │\n",
      "(0, 1): ───H───X───@───────────┼──────────────\n",
      "                   │           │\n",
      "(0, 2): ───H───────X───@───────┼──────────────\n",
      "                       │       │\n",
      "(0, 3): ───H───────────X───@───┼──────────────\n",
      "                           │   │\n",
      "(0, 4): ───H───────────────X───×──────────────\n"
     ]
    }
   ],
   "source": [
    "print(f\"Circuit\")\n",
    "print(circuit)"
   ]
  },
  {
   "cell_type": "markdown",
   "id": "b33989f9",
   "metadata": {},
   "source": [
    "Task 2"
   ]
  },
  {
   "cell_type": "code",
   "execution_count": 18,
   "id": "98658798",
   "metadata": {},
   "outputs": [],
   "source": [
    "qubits = cirq.LineQubit.range(4)"
   ]
  },
  {
   "cell_type": "code",
   "execution_count": 19,
   "id": "48820321",
   "metadata": {},
   "outputs": [],
   "source": [
    "circuit = cirq.Circuit()"
   ]
  },
  {
   "cell_type": "code",
   "execution_count": 20,
   "id": "61ceb106",
   "metadata": {},
   "outputs": [],
   "source": [
    "circuit.append(cirq.H(qubits[0]))"
   ]
  },
  {
   "cell_type": "code",
   "execution_count": 21,
   "id": "db9ab82d",
   "metadata": {},
   "outputs": [],
   "source": [
    "circuit.append(cirq.rx(np.pi/3).on(qubits[1]))\n",
    "circuit.append(cirq.H(qubits[2]))\n",
    "circuit.append(cirq.H(qubits[3]))"
   ]
  },
  {
   "cell_type": "code",
   "execution_count": 22,
   "id": "dd43b439",
   "metadata": {},
   "outputs": [],
   "source": [
    "circuit.append(cirq.CNOT(qubits[1], qubits[2]))\n",
    "circuit.append(cirq.CNOT(qubits[0], qubits[3]))\n",
    "circuit.append(cirq.H(qubits[1]))\n",
    "circuit.append(cirq.H(qubits[2]))\n",
    "circuit.append(cirq.measure(qubits[1], key='result1'))\n",
    "circuit.append(cirq.measure(qubits[2], key='result2'))"
   ]
  },
  {
   "cell_type": "code",
   "execution_count": 23,
   "id": "df5c695f",
   "metadata": {},
   "outputs": [],
   "source": [
    "simulator = cirq.Simulator()\n",
    "result = simulator.run(circuit)"
   ]
  },
  {
   "cell_type": "code",
   "execution_count": 24,
   "id": "b1379394",
   "metadata": {},
   "outputs": [
    {
     "name": "stdout",
     "output_type": "stream",
     "text": [
      "Measurement result for qubit 1: [[0]]\n",
      "Measurement result for qubit 2: [[0]]\n"
     ]
    }
   ],
   "source": [
    "print(\"Measurement result for qubit 1:\", result.measurements['result1'])\n",
    "print(\"Measurement result for qubit 2:\", result.measurements['result2'])"
   ]
  },
  {
   "cell_type": "code",
   "execution_count": 25,
   "id": "11f72454",
   "metadata": {},
   "outputs": [
    {
     "name": "stdout",
     "output_type": "stream",
     "text": [
      "                   ┌──┐\n",
      "0: ───H──────────────@───────────────────────\n",
      "                     │\n",
      "1: ───Rx(0.333π)────@┼────H───M('result1')───\n",
      "                    ││\n",
      "2: ───H─────────────X┼────H───M('result2')───\n",
      "                     │\n",
      "3: ───H──────────────X───────────────────────\n",
      "                   └──┘\n"
     ]
    }
   ],
   "source": [
    "print(circuit)"
   ]
  }
 ],
 "metadata": {
  "kernelspec": {
   "display_name": "Python 3 (ipykernel)",
   "language": "python",
   "name": "python3"
  },
  "language_info": {
   "codemirror_mode": {
    "name": "ipython",
    "version": 3
   },
   "file_extension": ".py",
   "mimetype": "text/x-python",
   "name": "python",
   "nbconvert_exporter": "python",
   "pygments_lexer": "ipython3",
   "version": "3.10.9"
  }
 },
 "nbformat": 4,
 "nbformat_minor": 5
}
